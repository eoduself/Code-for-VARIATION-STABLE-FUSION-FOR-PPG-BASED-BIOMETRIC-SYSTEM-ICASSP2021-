{
  "nbformat": 4,
  "nbformat_minor": 0,
  "metadata": {
    "colab": {
      "name": "Code_Simulation.ipynb",
      "provenance": [],
      "collapsed_sections": []
    },
    "language_info": {
      "codemirror_mode": {
        "name": "ipython",
        "version": 3
      },
      "file_extension": ".py",
      "mimetype": "text/x-python",
      "name": "python",
      "nbconvert_exporter": "python",
      "pygments_lexer": "ipython3",
      "version": "3.5.6"
    },
    "kernelspec": {
      "name": "python3",
      "display_name": "Python 3"
    },
    "accelerator": "GPU"
  },
  "cells": [
    {
      "cell_type": "code",
      "metadata": {
        "id": "L4MOKKo93AHB",
        "colab_type": "code",
        "outputId": "3b5b50a3-4e29-4a13-9636-7dd768595c54",
        "colab": {
          "base_uri": "https://localhost:8080/",
          "height": 306
        }
      },
      "source": [
        "# !nvidia-smi"
      ],
      "execution_count": 1,
      "outputs": [
        {
          "output_type": "stream",
          "text": [
            "Tue May 19 20:16:52 2020       \n",
            "+-----------------------------------------------------------------------------+\n",
            "| NVIDIA-SMI 440.82       Driver Version: 418.67       CUDA Version: 10.1     |\n",
            "|-------------------------------+----------------------+----------------------+\n",
            "| GPU  Name        Persistence-M| Bus-Id        Disp.A | Volatile Uncorr. ECC |\n",
            "| Fan  Temp  Perf  Pwr:Usage/Cap|         Memory-Usage | GPU-Util  Compute M. |\n",
            "|===============================+======================+======================|\n",
            "|   0  Tesla P100-PCIE...  Off  | 00000000:00:04.0 Off |                    0 |\n",
            "| N/A   37C    P0    27W / 250W |      0MiB / 16280MiB |      0%      Default |\n",
            "+-------------------------------+----------------------+----------------------+\n",
            "                                                                               \n",
            "+-----------------------------------------------------------------------------+\n",
            "| Processes:                                                       GPU Memory |\n",
            "|  GPU       PID   Type   Process name                             Usage      |\n",
            "|=============================================================================|\n",
            "|  No running processes found                                                 |\n",
            "+-----------------------------------------------------------------------------+\n"
          ],
          "name": "stdout"
        }
      ]
    },
    {
      "cell_type": "code",
      "metadata": {
        "id": "4seCuT_n89iY",
        "colab_type": "code",
        "outputId": "69fed152-1b4a-4b51-8f8a-94c8680b23bb",
        "colab": {
          "base_uri": "https://localhost:8080/",
          "height": 51
        }
      },
      "source": [
        "%tensorflow_version 1.x\n",
        "import tensorflow as tf \n",
        "print(tf.__version__)"
      ],
      "execution_count": 2,
      "outputs": [
        {
          "output_type": "stream",
          "text": [
            "TensorFlow 1.x selected.\n",
            "1.15.2\n"
          ],
          "name": "stdout"
        }
      ]
    },
    {
      "cell_type": "markdown",
      "metadata": {
        "id": "JfOgVK9sZzQY",
        "colab_type": "text"
      },
      "source": [
        "**Initialize**"
      ]
    },
    {
      "cell_type": "code",
      "metadata": {
        "id": "wQB26-q3ZzQZ",
        "colab_type": "code",
        "colab": {}
      },
      "source": [
        "import tensorflow as tf\n",
        "import numpy as np\n",
        "import matplotlib.pyplot as plt\n",
        "import scipy.io\n",
        "from scipy import stats\n",
        "from sklearn.preprocessing import OneHotEncoder\n",
        "from sklearn.utils import resample\n",
        "from sklearn.utils import class_weight\n",
        "from sklearn.model_selection import KFold\n",
        "import time\n",
        "import os\n",
        "from google.colab import files\n",
        "import shutil\n",
        "\n",
        "read_file=scipy.io.loadmat('Example_database.mat') # Please put Example_database.mat in right position\n",
        "Input_train = np.zeros((3360,450,4))  # 80% for train data (total is 4200)\n",
        "Input_test = np.zeros((840,450,4))   # 20% for test data (total is 4200)\n",
        "Valid_set = np.zeros((840,450,4)) # Far validation set\n",
        "Valid_set_close = np.zeros((840,450,4)) # Close validation set\n",
        "\n",
        "# Assign train data from Example_database.mat\n",
        "Input_train =np.array(read_file['train_1'])\n",
        "\n",
        "# Assign test data from Example_database.mat\n",
        "Input_test =np.array(read_file['test_1'])\n",
        "\n",
        "# Assign far validation data from Example_database.mat\n",
        "Valid_set =np.array(read_file['valid_Input'])\n",
        "\n",
        "# Assign close validation data from Example_database.mat\n",
        "Valid_set_close =np.array(read_file['valid_Input_close'])\n",
        "\n",
        "train_label =np.array(read_file['train_label'])  \n",
        "test_label =np.array(read_file['test_label'])  \n",
        "valid_label = np.array(read_file['valid_label'])\n",
        "\n",
        "X_train = Input_train\n",
        "Y_train = train_label\n",
        "\n",
        "X_test = Input_test\n",
        "Y_test = test_label\n",
        "\n",
        "# Number of classes\n",
        "n_classes= 42\n",
        "# Number of features\n",
        "n_features=X_train.shape[1]\n",
        "\n"
      ],
      "execution_count": 0,
      "outputs": []
    },
    {
      "cell_type": "markdown",
      "metadata": {
        "id": "soPaJzZ1ZzQd",
        "colab_type": "text"
      },
      "source": [
        "**Set Target Subject**"
      ]
    },
    {
      "cell_type": "code",
      "metadata": {
        "id": "E0YH-M853U--",
        "colab_type": "code",
        "outputId": "c8131343-94f8-4086-ca02-8976b920d3f8",
        "colab": {
          "base_uri": "https://localhost:8080/",
          "height": 34
        }
      },
      "source": [
        "ID = 1 # Set True user ID (1~42)\n",
        "\n",
        "print('ID',ID)\n",
        "\n",
        "Y_train[np.where(Y_train!=ID)] = 0\n",
        "Y_test[np.where(Y_test!=ID)] = 0\n",
        "valid_label[np.where(valid_label!=ID)] = 0"
      ],
      "execution_count": 4,
      "outputs": [
        {
          "output_type": "stream",
          "text": [
            "ID 1\n"
          ],
          "name": "stdout"
        }
      ]
    },
    {
      "cell_type": "code",
      "metadata": {
        "id": "jrxsMwfzZzQg",
        "colab_type": "code",
        "outputId": "16f5d2ce-985b-48f6-ba6e-9c1a8c49e9e5",
        "colab": {
          "base_uri": "https://localhost:8080/",
          "height": 68
        }
      },
      "source": [
        "print(np.unique(Y_train, return_counts=True)) # Check whether train target is only 1 while others are 0\n",
        "print(np.unique(Y_test, return_counts=True)) # Check whether test target is only 1 while others are 0\n",
        "print(np.unique(valid_label, return_counts=True)) # Check whether valid target is only 1 while others are 0"
      ],
      "execution_count": 5,
      "outputs": [
        {
          "output_type": "stream",
          "text": [
            "(array([0, 1], dtype=uint8), array([3283,   77]))\n",
            "(array([0, 1], dtype=uint8), array([817,  23]))\n",
            "(array([0, 1], dtype=uint8), array([820,  20]))\n"
          ],
          "name": "stdout"
        }
      ]
    },
    {
      "cell_type": "markdown",
      "metadata": {
        "id": "hA8DMolyZzQj",
        "colab_type": "text"
      },
      "source": [
        "**Onehot encoding + Data spliting and suffle**"
      ]
    },
    {
      "cell_type": "code",
      "metadata": {
        "id": "0oXwkk8LZzQk",
        "colab_type": "code",
        "colab": {}
      },
      "source": [
        "enc = OneHotEncoder()\n",
        "# randomly shuffle data before training and testing\n",
        "\n",
        "randIndx = np.arange(X_train.shape[0])\n",
        "np.random.shuffle(randIndx)\n",
        "\n",
        "randIndx2 = np.arange(X_test.shape[0])\n",
        "np.random.shuffle(randIndx2)\n",
        "\n",
        "randIndx3 = np.arange(Valid_set.shape[0])\n",
        "np.random.shuffle(randIndx3)\n",
        "\n",
        "trainSamples=np.floor(X_train.shape[0]).astype(int)\n",
        "testSamples=np.floor(X_test.shape[0]).astype(int) \n",
        "validSamples=np.floor(Valid_set.shape[0]).astype(int) \n",
        "\n",
        "X_train = X_train[randIndx,:,:] # Shuffle train data\n",
        "X_test = X_test[randIndx2,:,:] # Shuffle test data\n",
        "Valid_set = Valid_set[randIndx3,:,:] # Shuffle far validation data\n",
        "Valid_set_close = Valid_set_close[randIndx3,:,:] # Shuffle close validation data\n",
        "\n",
        "Y_train =enc.fit_transform(Y_train[randIndx].reshape(-1,1)).toarray() # Shuffle train target with one-hot encoding\n",
        "Y_test =enc.fit_transform(Y_test[randIndx2].reshape(-1,1)).toarray() # Shuffle test target with one-hot encoding\n",
        "valid_label =enc.fit_transform(valid_label[randIndx3].reshape(-1,1)).toarray() # Shuffle validation target with one-hot encoding\n"
      ],
      "execution_count": 0,
      "outputs": []
    },
    {
      "cell_type": "code",
      "metadata": {
        "id": "rEtICONyZzQq",
        "colab_type": "code",
        "outputId": "351af6e9-f227-4082-d209-82f3ddd7754f",
        "colab": {
          "base_uri": "https://localhost:8080/",
          "height": 51
        }
      },
      "source": [
        "# Assign to train_data (target) / test_data (target)\n",
        "train_data, train_target = X_train, Y_train\n",
        "test_data, test_target = X_test, Y_test\n",
        "\n",
        "print(train_data.shape,train_target.shape)\n",
        "print(test_data.shape,test_target.shape)\n"
      ],
      "execution_count": 7,
      "outputs": [
        {
          "output_type": "stream",
          "text": [
            "(3360, 450, 4) (3360, 2)\n",
            "(840, 450, 4) (840, 2)\n"
          ],
          "name": "stdout"
        }
      ]
    },
    {
      "cell_type": "markdown",
      "metadata": {
        "id": "I_IE9Ys7ZzQw",
        "colab_type": "text"
      },
      "source": [
        "**Network Structure**"
      ]
    },
    {
      "cell_type": "code",
      "metadata": {
        "id": "t3Rjeo_5ZzQx",
        "colab_type": "code",
        "colab": {}
      },
      "source": [
        "class Model:\n",
        "\n",
        "    def __init__(self, sess, name):\n",
        "\n",
        "        self.sess = sess\n",
        "\n",
        "        self.name = name\n",
        "\n",
        "        self._build_net()\n",
        "\n",
        "    def _build_net(self):\n",
        "\n",
        "        with tf.variable_scope(self.name):\n",
        "\n",
        "            self.training = tf.placeholder(tf.bool) # For turn-on/off dropout layer\n",
        "\n",
        "            # Input place holders\n",
        "            self.X = tf.placeholder(tf.float32, [None, 450, 1]) # train/validation/test data\n",
        "            self.Y = tf.placeholder(tf.float32, [None, 2]) # train/validation/test target\n",
        "            self.learning_rate = tf.placeholder(tf.float32) # learning rate\n",
        "            self.class_weights = tf.placeholder(tf.float32) # weight value for weighted-cross entropy\n",
        "            self.reg_constant = tf.placeholder(tf.float32) # regularization constant\n",
        "\n",
        "            # Convolutional Layer #1, length: 450x1 -> 271x50 (change of feature size)\n",
        "            W1 = tf.Variable(tf.random_normal([180, 1, 50], stddev=0.01))\n",
        "            conv1 = tf.nn.conv1d(self.X, W1, stride=1, padding='VALID')\n",
        "            selu1 = tf.nn.selu(conv1) \n",
        "            dropout1 = tf.layers.dropout(inputs=selu1, rate=0.5, training=self.training)\n",
        "            \n",
        "            # Convolutional Layer #2, length: 271x50 -> 62x70 (change of feature size)\n",
        "            W2 = tf.Variable(tf.random_normal([210, 50, 70], stddev=0.01))\n",
        "            conv2 = tf.nn.conv1d(dropout1, W2, stride=1, padding='VALID')\n",
        "            selu2 = tf.nn.selu(conv2)                                    \n",
        "            dropout2 = tf.layers.dropout(inputs=selu2, rate=0.5, training=self.training)\n",
        "            \n",
        "        \n",
        "            # FC layer, length: 62x70  -> 2 output (change of feature size)\n",
        "            FC1 = tf.reshape(dropout2, [-1, 62*70])  \n",
        "            FC_weight = tf.get_variable(\"FC_weight\", shape=[62*70, 2], initializer=tf.contrib.layers.xavier_initializer())\n",
        "            logits = tf.matmul(FC1,FC_weight) # Logit value\n",
        "    \n",
        "        # Define cost/loss & optimizer \n",
        "        reg_losses = tf.nn.l2_loss(W1) + tf.nn.l2_loss(W2) + tf.nn.l2_loss(FC_weight) # L2 regularization\n",
        "        \n",
        "        self.cost = tf.reduce_mean(tf.nn.weighted_cross_entropy_with_logits(self.Y, logits, self.class_weights)) \n",
        "        self.cost = self.cost + self.reg_constant * reg_losses\n",
        "\n",
        "        self.optimizer = tf.train.AdamOptimizer(learning_rate=self.learning_rate).minimize(self.cost) \n",
        "\n",
        "        self.sigmoid_out = tf.nn.sigmoid(logits) \n",
        "        self.predict = tf.cast(self.sigmoid_out[:,1], tf.float32) # Used for getting final predictions\n",
        "                    \n",
        "        \n",
        "    def get_predict(self, x_test, training = False):          \n",
        "\n",
        "        return self.sess.run(self.predict, feed_dict={self.X: x_test, self.training: training})\n",
        "    \n",
        "\n",
        "    def get_cost(self, x_valid, y_valid, weights, reg, training = False):\n",
        "        \n",
        "        return self.sess.run(self.cost, feed_dict={self.X: x_valid, \n",
        "                                                   self.Y: y_valid, self.class_weights: weights, self.training: training, self.reg_constant: reg})\n",
        "\n",
        "\n",
        "    def train(self, x_data, y_data, weights, learning, reg, training = True):\n",
        "\n",
        "        return self.sess.run(self.optimizer, feed_dict={\n",
        "             self.X: x_data, self.Y: y_data, self.class_weights: weights, self.learning_rate: learning, self.training: training, self.reg_constant: reg})\n",
        "    "
      ],
      "execution_count": 0,
      "outputs": []
    },
    {
      "cell_type": "markdown",
      "metadata": {
        "id": "K-GFm7kdZzQz",
        "colab_type": "text"
      },
      "source": [
        "**Main**"
      ]
    },
    {
      "cell_type": "code",
      "metadata": {
        "scrolled": false,
        "id": "ak_o620MZzQz",
        "colab_type": "code",
        "outputId": "9a53261f-79b0-4e31-f78a-0f5cbf6bf480",
        "colab": {
          "base_uri": "https://localhost:8080/",
          "height": 666
        }
      },
      "source": [
        "### Hyperparameters\n",
        "\n",
        "learning_rate = 0.0001\n",
        "training_epochs = 60\n",
        "batch_size = 336 # Mini-batch size: total: 3360(train)/840(test) \n",
        "num_cv = 10  # 10-fold cross validation\n",
        "bag_size = 3024  # Bag_size = train_data_size - batch_size\n",
        "ear_epoch = 0\n",
        "\n",
        "valid_cost = np.zeros((training_epochs,4))\n",
        "\n",
        "# initialize\n",
        "sess = tf.Session()\n",
        "\n",
        "models = []\n",
        "num_models = 4 \n",
        "\n",
        "for m in range(num_models):\n",
        "    print('Number of Model {}'.format(m+1))\n",
        "    models.append(Model(sess, \"model\" + str(m)))    \n",
        "\n",
        "\n",
        "sess.run(tf.global_variables_initializer())\n",
        "\n",
        "\n",
        "start_time = time.time() # Time starts!\n",
        "\n",
        "print('Learning Started!')\n",
        "\n",
        "# Train model\n",
        "for epoch in range(training_epochs):\n",
        "         \n",
        "    total_batch = int(bag_size / batch_size)\n",
        "    valid_cost_cv = [0,0,0,0]\n",
        "    \n",
        "    cv = KFold(n_splits=num_cv, shuffle=True)\n",
        "    for train_index, test_index in cv.split(train_data): # For cross validation\n",
        "        cv_train_data, cv_validate_data = train_data[train_index], train_data[test_index]\n",
        "        cv_train_target, cv_validate_target = train_target[train_index], train_target[test_index]    \n",
        "                    \n",
        "        for m_idx, m in enumerate(models):\n",
        "            # Assign different regularization constant. They are best hyperparameters from our searching.\n",
        "            if m_idx==0: # DW feature\n",
        "              training, validating = cv_train_data[:,:,0], cv_validate_data[:,:,0]\n",
        "              training_target, validating_target = cv_train_target, cv_validate_target\n",
        "              reg = 0.02 \n",
        "            if m_idx==1: # TP feature\n",
        "              training, validating = cv_train_data[:,:,1], cv_validate_data[:,:,1]\n",
        "              training_target, validating_target = cv_train_target, cv_validate_target\n",
        "              reg = 0.01            \n",
        "            if m_idx==2: # FP feature\n",
        "              training, validating = cv_train_data[:,:,2], cv_validate_data[:,:,2]\n",
        "              training_target, validating_target = cv_train_target, cv_validate_target            \n",
        "              reg = 0.02\n",
        "            if m_idx==3: # Cubic feature\n",
        "              training, validating = cv_train_data[:,:,3], cv_validate_data[:,:,3]\n",
        "              training_target, validating_target = cv_train_target, cv_validate_target            \n",
        "              reg = 0.01   \n",
        "\n",
        "            training = np.reshape(training,[len(training),n_features,1])\n",
        "            validating = np.reshape(validating,[len(validating),n_features,1])\n",
        "\n",
        "            for i in range(total_batch):\n",
        "\n",
        "                batch_xs, batch_ys = training[batch_size*i:batch_size*(i+1),:,:], training_target[batch_size*i:batch_size*(i+1)]                \n",
        "                pos_weight = (n_classes - 1) # Weight value for weighted-cross entropy\n",
        "\n",
        "                _ = m.train(batch_xs, batch_ys, pos_weight, learning_rate, reg)  # Train model independently\n",
        "            \n",
        "            pos_weight = 1 # Usual cross entropy for validation/test set\n",
        "            valid_cost_cv[m_idx] += m.get_cost(validating, validating_target, pos_weight, reg) \n",
        "            \n",
        "    valid_cost[epoch] =np.divide(valid_cost_cv ,num_cv) # Cost for cross-validation\n",
        "    \n",
        "    if ((epoch+1)%5) == 0:\n",
        "        print('Epoch:', '%04d' % (epoch + 1), 'Model 0_cost =', round(valid_cost[epoch,0],3),' Model 1_cost =', round(valid_cost[epoch,1],3),' Model 2_cost =', round(valid_cost[epoch,2],3),' Model 3_cost =', round(valid_cost[epoch,3],3)) \n",
        "       \n",
        "        \n",
        "print('Learning Finished!')\n",
        "\n",
        "end_time = time.time() # Time ends!\n",
        "\n",
        "train_time = end_time - start_time\n",
        "\n",
        "print('Training time: {:.2f} seconds'.format(train_time))\n",
        "print('Last validation error for DW: {:.3f} '.format(valid_cost[-1,0]))\n",
        "print('Last validation error for TP: {:.3f} '.format(valid_cost[-1,1]))\n",
        "print('Last validation error for FP: {:.3f} '.format(valid_cost[-1,2]))\n",
        "print('Last validation error for Cubic: {:.3f} '.format(valid_cost[-1,3]))\n"
      ],
      "execution_count": 9,
      "outputs": [
        {
          "output_type": "stream",
          "text": [
            "Number of Model 1\n",
            "WARNING:tensorflow:From <ipython-input-8-c0efac745646>:28: dropout (from tensorflow.python.layers.core) is deprecated and will be removed in a future version.\n",
            "Instructions for updating:\n",
            "Use keras.layers.dropout instead.\n",
            "WARNING:tensorflow:From /tensorflow-1.15.2/python3.6/tensorflow_core/python/layers/core.py:271: Layer.apply (from tensorflow.python.keras.engine.base_layer) is deprecated and will be removed in a future version.\n",
            "Instructions for updating:\n",
            "Please use `layer.__call__` method instead.\n",
            "WARNING:tensorflow:\n",
            "The TensorFlow contrib module will not be included in TensorFlow 2.0.\n",
            "For more information, please see:\n",
            "  * https://github.com/tensorflow/community/blob/master/rfcs/20180907-contrib-sunset.md\n",
            "  * https://github.com/tensorflow/addons\n",
            "  * https://github.com/tensorflow/io (for I/O related ops)\n",
            "If you depend on functionality not listed there, please file an issue.\n",
            "\n",
            "Number of Model 2\n",
            "Number of Model 3\n",
            "Number of Model 4\n",
            "Learning Started!\n",
            "Epoch: 0005 Model 0_cost = 0.763  Model 1_cost = 0.662  Model 2_cost = 0.77  Model 3_cost = 0.449\n",
            "Epoch: 0010 Model 0_cost = 0.5  Model 1_cost = 0.455  Model 2_cost = 0.55  Model 3_cost = 0.33\n",
            "Epoch: 0015 Model 0_cost = 0.325  Model 1_cost = 0.349  Model 2_cost = 0.4  Model 3_cost = 0.261\n",
            "Epoch: 0020 Model 0_cost = 0.22  Model 1_cost = 0.27  Model 2_cost = 0.292  Model 3_cost = 0.206\n",
            "Epoch: 0025 Model 0_cost = 0.157  Model 1_cost = 0.212  Model 2_cost = 0.215  Model 3_cost = 0.162\n",
            "Epoch: 0030 Model 0_cost = 0.117  Model 1_cost = 0.176  Model 2_cost = 0.162  Model 3_cost = 0.122\n",
            "Epoch: 0035 Model 0_cost = 0.094  Model 1_cost = 0.152  Model 2_cost = 0.127  Model 3_cost = 0.095\n",
            "Epoch: 0040 Model 0_cost = 0.076  Model 1_cost = 0.135  Model 2_cost = 0.099  Model 3_cost = 0.072\n",
            "Epoch: 0045 Model 0_cost = 0.066  Model 1_cost = 0.126  Model 2_cost = 0.076  Model 3_cost = 0.056\n",
            "Epoch: 0050 Model 0_cost = 0.059  Model 1_cost = 0.118  Model 2_cost = 0.062  Model 3_cost = 0.043\n",
            "Epoch: 0055 Model 0_cost = 0.055  Model 1_cost = 0.113  Model 2_cost = 0.052  Model 3_cost = 0.037\n",
            "Epoch: 0060 Model 0_cost = 0.052  Model 1_cost = 0.11  Model 2_cost = 0.046  Model 3_cost = 0.028\n",
            "Learning Finished!\n",
            "Training time: 347.93 seconds\n",
            "Last validation error for DW: 0.052 \n",
            "Last validation error for TP: 0.110 \n",
            "Last validation error for FP: 0.046 \n",
            "Last validation error for Cubic: 0.028 \n"
          ],
          "name": "stdout"
        }
      ]
    },
    {
      "cell_type": "markdown",
      "metadata": {
        "id": "7IQ-uF8vZzQ2",
        "colab_type": "text"
      },
      "source": [
        "**Epoch vs Cost plot**"
      ]
    },
    {
      "cell_type": "code",
      "metadata": {
        "id": "ySwsMlKeZzQ2",
        "colab_type": "code",
        "outputId": "3c64ee83-c889-4c01-9870-3590119022ec",
        "colab": {
          "base_uri": "https://localhost:8080/",
          "height": 295
        }
      },
      "source": [
        "fig = plt.figure()\n",
        "ax = plt.subplot(111)\n",
        "\n",
        "x_axis = np.linspace(1.0, training_epochs, num=training_epochs)\n",
        "ax.plot(x_axis, valid_cost[:,0],'r', label='DW feature')\n",
        "ax.plot(x_axis, valid_cost[:,1],'g', label='TP feature')\n",
        "ax.plot(x_axis, valid_cost[:,2],'b', label='FP feature')\n",
        "ax.plot(x_axis, valid_cost[:,3],'m', label='Cubic feature')\n",
        "\n",
        "ax.legend()\n",
        "plt.title('Epoch vs Cost')\n",
        "plt.xlabel('Epoch')\n",
        "plt.ylabel('Cost')\n",
        "\n",
        "plt.show()"
      ],
      "execution_count": 10,
      "outputs": [
        {
          "output_type": "display_data",
          "data": {
            "image/png": "[encoded data removed]",
            "text/plain": [
              "<Figure size 432x288 with 1 Axes>"
            ]
          },
          "metadata": {
            "tags": [],
            "needs_background": "light"
          }
        }
      ]
    },
    {
      "cell_type": "markdown",
      "metadata": {
        "id": "AyENg8npAICE",
        "colab_type": "text"
      },
      "source": [
        "**Performance from far and close validation sets**\n"
      ]
    },
    {
      "cell_type": "code",
      "metadata": {
        "id": "bQQ-ZPWKAewI",
        "colab_type": "code",
        "colab": {}
      },
      "source": [
        "thres = np.arange(0, 1.001, 0.001)\n",
        "\n",
        "valid_0 = np.reshape(Valid_set[:,:,0], [len(Valid_set[:,:,0]),n_features,1])\n",
        "valid_1 = np.reshape(Valid_set[:,:,1], [len(Valid_set[:,:,1]),n_features,1])\n",
        "valid_2 = np.reshape(Valid_set[:,:,2], [len(Valid_set[:,:,2]),n_features,1])\n",
        "valid_3 = np.reshape(Valid_set[:,:,3], [len(Valid_set[:,:,3]),n_features,1])\n",
        "\n",
        "valid_close_0 = np.reshape(Valid_set_close[:,:,0], [len(Valid_set_close[:,:,0]),n_features,1])\n",
        "valid_close_1 = np.reshape(Valid_set_close[:,:,1], [len(Valid_set_close[:,:,1]),n_features,1])\n",
        "valid_close_2 = np.reshape(Valid_set_close[:,:,2], [len(Valid_set_close[:,:,2]),n_features,1])\n",
        "valid_close_3 = np.reshape(Valid_set_close[:,:,3], [len(Valid_set_close[:,:,3]),n_features,1])\n",
        "\n",
        "start_time_valid = time.time() # Time starts!    \n",
        "\n",
        "valid_logit_0 =  models[0].get_predict(valid_0) # Far-validation score in Model-DW feature\n",
        "valid_logit_1 =  models[1].get_predict(valid_1) # Far-validation score in Model-TP feature\n",
        "valid_logit_2 =  models[2].get_predict(valid_2) # Far-validation score in Model-FP feature\n",
        "valid_logit_3 =  models[3].get_predict(valid_3) # Far-validation score in Model-Cubic feature\n",
        "\n",
        "valid_close_logit_0 =  models[0].get_predict(valid_close_0) # Close-validation score in Model-DW feature\n",
        "valid_close_logit_1 =  models[1].get_predict(valid_close_1) # Close-validation score in Model-TP feature\n",
        "valid_close_logit_2 =  models[2].get_predict(valid_close_2) # Close-validation score in Model-FP feature\n",
        "valid_close_logit_3 =  models[3].get_predict(valid_close_3) # Close-validation score in Model-Cubic feature\n"
      ],
      "execution_count": 0,
      "outputs": []
    },
    {
      "cell_type": "code",
      "metadata": {
        "id": "Mst-SY8jAG2m",
        "colab_type": "code",
        "colab": {}
      },
      "source": [
        "# Far-validation result in Model-DW feature\n",
        "\n",
        "thres_matrix_valid_0 = np.zeros((len(valid_label),len(thres)))\n",
        "total_matrix_valid_0 = np.zeros((len(thres),4)) #acc,far,frr,recall(order of column)\n",
        "\n",
        "\n",
        "for j in range(len(thres)):\n",
        "    for i in range(len(valid_label)):\n",
        "        if valid_logit_0[i] < thres[j]:\n",
        "            thres_matrix_valid_0[i,j] = 0\n",
        "        else:\n",
        "            thres_matrix_valid_0[i,j] = 1\n",
        "\n",
        "for i in range(len(thres)):\n",
        "\n",
        "    equal_logit = np.equal(thres_matrix_valid_0[:,i], valid_label[:,1])\n",
        "    unique2, True_pos_neg_test = np.unique(thres_matrix_valid_0[np.where(equal_logit==True),i], return_counts=True)\n",
        "    unique3, False_pos_neg_test = np.unique(thres_matrix_valid_0[np.where(equal_logit==False),i], return_counts=True) \n",
        "\n",
        "    if np.shape(True_pos_neg_test)==(1,):\n",
        "        if unique2[0] == 0:\n",
        "            True_pos_neg_test = [True_pos_neg_test[0], 0]\n",
        "        else:\n",
        "            True_pos_neg_test = [0, True_pos_neg_test[0]]\n",
        "\n",
        "    if np.shape(False_pos_neg_test)==(1,):\n",
        "        if unique3[0] == 0:\n",
        "            False_pos_neg_test = [False_pos_neg_test[0], 0]\n",
        "        else:\n",
        "            False_pos_neg_test = [0, False_pos_neg_test[0]]\n",
        "\n",
        "    if np.shape(True_pos_neg_test)==(0,):\n",
        "        True_pos_neg_test = [0, 0]\n",
        "\n",
        "    if np.shape(False_pos_neg_test)==(0,):\n",
        "        False_pos_neg_test = [0, 0]\n",
        "\n",
        "    Recall_test= True_pos_neg_test[1]/(False_pos_neg_test[0]+True_pos_neg_test[1])\n",
        "    Specific_test = True_pos_neg_test[0] /(True_pos_neg_test[0]+False_pos_neg_test[1])\n",
        "\n",
        "    ACC_test = (True_pos_neg_test[0]+True_pos_neg_test[1]) / (len(valid_label))\n",
        "    FAR_test = 1 - Specific_test\n",
        "    FRR_test = 1 - Recall_test\n",
        "\n",
        "    total_matrix_valid_0[i,:] = ACC_test, FAR_test, FRR_test, Recall_test\n",
        "\n",
        "\n",
        "EER_loc_test = np.argmin(abs(total_matrix_valid_0[:,1] - total_matrix_valid_0[:,2]))\n",
        "EER_0 = (total_matrix_valid_0[EER_loc_test,1]+total_matrix_valid_0[EER_loc_test,2])/2"
      ],
      "execution_count": 0,
      "outputs": []
    },
    {
      "cell_type": "code",
      "metadata": {
        "id": "3eCpdItGAG5j",
        "colab_type": "code",
        "colab": {}
      },
      "source": [
        "# Far-validation result in Model-TP feature\n",
        "\n",
        "thres_matrix_valid_1 = np.zeros((len(valid_label),len(thres)))\n",
        "total_matrix_valid_1 = np.zeros((len(thres),4)) #acc,far,frr,recall(order of column)\n",
        "\n",
        "\n",
        "for j in range(len(thres)):\n",
        "    for i in range(len(valid_label)):\n",
        "        if valid_logit_1[i] < thres[j]:\n",
        "            thres_matrix_valid_1[i,j] = 0\n",
        "        else:\n",
        "            thres_matrix_valid_1[i,j] = 1\n",
        "\n",
        "for i in range(len(thres)):\n",
        "\n",
        "    equal_logit = np.equal(thres_matrix_valid_1[:,i], valid_label[:,1]) \n",
        "    unique2, True_pos_neg_test = np.unique(thres_matrix_valid_1[np.where(equal_logit==True),i], return_counts=True)\n",
        "    unique3, False_pos_neg_test = np.unique(thres_matrix_valid_1[np.where(equal_logit==False),i], return_counts=True) \n",
        "\n",
        "    if np.shape(True_pos_neg_test)==(1,):\n",
        "        if unique2[0] == 0:\n",
        "            True_pos_neg_test = [True_pos_neg_test[0], 0]\n",
        "        else:\n",
        "            True_pos_neg_test = [0, True_pos_neg_test[0]]\n",
        "\n",
        "    if np.shape(False_pos_neg_test)==(1,):\n",
        "        if unique3[0] == 0:\n",
        "            False_pos_neg_test = [False_pos_neg_test[0], 0]\n",
        "        else:\n",
        "            False_pos_neg_test = [0, False_pos_neg_test[0]]\n",
        "\n",
        "    if np.shape(True_pos_neg_test)==(0,):\n",
        "        True_pos_neg_test = [0, 0]\n",
        "\n",
        "    if np.shape(False_pos_neg_test)==(0,):\n",
        "        False_pos_neg_test = [0, 0]\n",
        "\n",
        "    Recall_test= True_pos_neg_test[1]/(False_pos_neg_test[0]+True_pos_neg_test[1])\n",
        "    Specific_test = True_pos_neg_test[0] /(True_pos_neg_test[0]+False_pos_neg_test[1])\n",
        "\n",
        "    ACC_test = (True_pos_neg_test[0]+True_pos_neg_test[1]) / (len(valid_label))\n",
        "    FAR_test = 1 - Specific_test\n",
        "    FRR_test = 1 - Recall_test\n",
        "\n",
        "    total_matrix_valid_1[i,:] = ACC_test, FAR_test, FRR_test, Recall_test\n",
        "\n",
        "EER_loc_test = np.argmin(abs(total_matrix_valid_1[:,1] - total_matrix_valid_1[:,2]))\n",
        "EER_1 = (total_matrix_valid_1[EER_loc_test,1]+total_matrix_valid_1[EER_loc_test,2])/2"
      ],
      "execution_count": 0,
      "outputs": []
    },
    {
      "cell_type": "code",
      "metadata": {
        "id": "oXQ8-oHiAG8X",
        "colab_type": "code",
        "colab": {}
      },
      "source": [
        "# Far-validation result in Model-FP feature\n",
        "\n",
        "thres_matrix_valid_2 = np.zeros((len(valid_label),len(thres)))\n",
        "total_matrix_valid_2 = np.zeros((len(thres),4)) #acc,far,frr,recall(order of column)\n",
        "\n",
        "\n",
        "for j in range(len(thres)):\n",
        "    for i in range(len(valid_label)):\n",
        "        if valid_logit_2[i] < thres[j]:\n",
        "            thres_matrix_valid_2[i,j] = 0\n",
        "        else:\n",
        "            thres_matrix_valid_2[i,j] = 1\n",
        "\n",
        "for i in range(len(thres)):\n",
        "\n",
        "    equal_logit = np.equal(thres_matrix_valid_2[:,i], valid_label[:,1]) \n",
        "    unique2, True_pos_neg_test = np.unique(thres_matrix_valid_2[np.where(equal_logit==True),i], return_counts=True)\n",
        "    unique3, False_pos_neg_test = np.unique(thres_matrix_valid_2[np.where(equal_logit==False),i], return_counts=True) \n",
        "\n",
        "    if np.shape(True_pos_neg_test)==(1,):\n",
        "        if unique2[0] == 0:\n",
        "            True_pos_neg_test = [True_pos_neg_test[0], 0]\n",
        "        else:\n",
        "            True_pos_neg_test = [0, True_pos_neg_test[0]]\n",
        "\n",
        "    if np.shape(False_pos_neg_test)==(1,):\n",
        "        if unique3[0] == 0:\n",
        "            False_pos_neg_test = [False_pos_neg_test[0], 0]\n",
        "        else:\n",
        "            False_pos_neg_test = [0, False_pos_neg_test[0]]\n",
        "\n",
        "    if np.shape(True_pos_neg_test)==(0,):\n",
        "        True_pos_neg_test = [0, 0]\n",
        "\n",
        "    if np.shape(False_pos_neg_test)==(0,):\n",
        "        False_pos_neg_test = [0, 0]\n",
        "\n",
        "    Recall_test= True_pos_neg_test[1]/(False_pos_neg_test[0]+True_pos_neg_test[1])\n",
        "    Specific_test = True_pos_neg_test[0] /(True_pos_neg_test[0]+False_pos_neg_test[1])\n",
        "\n",
        "    ACC_test = (True_pos_neg_test[0]+True_pos_neg_test[1]) / (len(valid_label))\n",
        "    FAR_test = 1 - Specific_test\n",
        "    FRR_test = 1 - Recall_test\n",
        "\n",
        "    total_matrix_valid_2[i,:] = ACC_test, FAR_test, FRR_test, Recall_test\n",
        "\n",
        "EER_loc_test = np.argmin(abs(total_matrix_valid_2[:,1] - total_matrix_valid_2[:,2]))\n",
        "EER_2 = (total_matrix_valid_2[EER_loc_test,1]+total_matrix_valid_2[EER_loc_test,2])/2"
      ],
      "execution_count": 0,
      "outputs": []
    },
    {
      "cell_type": "code",
      "metadata": {
        "id": "0LQ9YCSyYKH5",
        "colab_type": "code",
        "colab": {}
      },
      "source": [
        "# Far-validation result in Model-Cubic feature\n",
        "\n",
        "thres_matrix_valid_3 = np.zeros((len(valid_label),len(thres)))\n",
        "total_matrix_valid_3 = np.zeros((len(thres),4)) #acc,far,frr,recall(order of column)\n",
        "\n",
        "\n",
        "for j in range(len(thres)):\n",
        "    for i in range(len(valid_label)):\n",
        "        if valid_logit_3[i] < thres[j]:\n",
        "            thres_matrix_valid_3[i,j] = 0\n",
        "        else:\n",
        "            thres_matrix_valid_3[i,j] = 1\n",
        "\n",
        "for i in range(len(thres)):\n",
        "\n",
        "    equal_logit = np.equal(thres_matrix_valid_3[:,i], valid_label[:,1]) \n",
        "    unique2, True_pos_neg_test = np.unique(thres_matrix_valid_3[np.where(equal_logit==True),i], return_counts=True)\n",
        "    unique3, False_pos_neg_test = np.unique(thres_matrix_valid_3[np.where(equal_logit==False),i], return_counts=True) \n",
        "\n",
        "    if np.shape(True_pos_neg_test)==(1,):\n",
        "        if unique2[0] == 0:\n",
        "            True_pos_neg_test = [True_pos_neg_test[0], 0]\n",
        "        else:\n",
        "            True_pos_neg_test = [0, True_pos_neg_test[0]]\n",
        "\n",
        "    if np.shape(False_pos_neg_test)==(1,):\n",
        "        if unique3[0] == 0:\n",
        "            False_pos_neg_test = [False_pos_neg_test[0], 0]\n",
        "        else:\n",
        "            False_pos_neg_test = [0, False_pos_neg_test[0]]\n",
        "\n",
        "    if np.shape(True_pos_neg_test)==(0,):\n",
        "        True_pos_neg_test = [0, 0]\n",
        "\n",
        "    if np.shape(False_pos_neg_test)==(0,):\n",
        "        False_pos_neg_test = [0, 0]\n",
        "\n",
        "    Recall_test= True_pos_neg_test[1]/(False_pos_neg_test[0]+True_pos_neg_test[1])\n",
        "    Specific_test = True_pos_neg_test[0] /(True_pos_neg_test[0]+False_pos_neg_test[1])\n",
        "\n",
        "    ACC_test = (True_pos_neg_test[0]+True_pos_neg_test[1]) / (len(valid_label))\n",
        "    FAR_test = 1 - Specific_test\n",
        "    FRR_test = 1 - Recall_test\n",
        "\n",
        "    total_matrix_valid_3[i,:] = ACC_test, FAR_test, FRR_test, Recall_test\n",
        "\n",
        "EER_loc_test = np.argmin(abs(total_matrix_valid_3[:,1] - total_matrix_valid_3[:,2]))\n",
        "EER_3 = (total_matrix_valid_3[EER_loc_test,1]+total_matrix_valid_3[EER_loc_test,2])/2\n",
        "\n",
        "valid_per = [EER_0, EER_1, EER_2, EER_3] # EER results from far-validation set in each model\n",
        "\n",
        "for i in range(len(valid_per)): # If EER is 0, give 0.001 instead to avoid NaN\n",
        "\tif valid_per[i] ==0:\n",
        "\t\tvalid_per[i] = 0.001\n"
      ],
      "execution_count": 0,
      "outputs": []
    },
    {
      "cell_type": "code",
      "metadata": {
        "id": "-16Ek78OpDuK",
        "colab_type": "code",
        "colab": {}
      },
      "source": [
        "# Close-validation result in Model-DW feature\n",
        "\n",
        "thres_matrix_valid_close_0 = np.zeros((len(valid_label),len(thres)))\n",
        "total_matrix_valid_close_0 = np.zeros((len(thres),4)) #acc,far,frr,recall(order of column)\n",
        "\n",
        "\n",
        "for j in range(len(thres)):\n",
        "    for i in range(len(valid_label)):\n",
        "        if valid_close_logit_0[i] < thres[j]:\n",
        "            thres_matrix_valid_close_0[i,j] = 0\n",
        "        else:\n",
        "            thres_matrix_valid_close_0[i,j] = 1\n",
        "\n",
        "for i in range(len(thres)):\n",
        "\n",
        "    equal_logit = np.equal(thres_matrix_valid_close_0[:,i], valid_label[:,1]) \n",
        "    unique2, True_pos_neg_test = np.unique(thres_matrix_valid_close_0[np.where(equal_logit==True),i], return_counts=True)\n",
        "    unique3, False_pos_neg_test = np.unique(thres_matrix_valid_close_0[np.where(equal_logit==False),i], return_counts=True) \n",
        "\n",
        "    if np.shape(True_pos_neg_test)==(1,):\n",
        "        if unique2[0] == 0:\n",
        "            True_pos_neg_test = [True_pos_neg_test[0], 0]\n",
        "        else:\n",
        "            True_pos_neg_test = [0, True_pos_neg_test[0]]\n",
        "\n",
        "    if np.shape(False_pos_neg_test)==(1,):\n",
        "        if unique3[0] == 0:\n",
        "            False_pos_neg_test = [False_pos_neg_test[0], 0]\n",
        "        else:\n",
        "            False_pos_neg_test = [0, False_pos_neg_test[0]]\n",
        "\n",
        "    if np.shape(True_pos_neg_test)==(0,):\n",
        "        True_pos_neg_test = [0, 0]\n",
        "\n",
        "    if np.shape(False_pos_neg_test)==(0,):\n",
        "        False_pos_neg_test = [0, 0]\n",
        "\n",
        "    Recall_test= True_pos_neg_test[1]/(False_pos_neg_test[0]+True_pos_neg_test[1])\n",
        "    Specific_test = True_pos_neg_test[0] /(True_pos_neg_test[0]+False_pos_neg_test[1])\n",
        "\n",
        "    ACC_test = (True_pos_neg_test[0]+True_pos_neg_test[1]) / (len(valid_label))\n",
        "    FAR_test = 1 - Specific_test\n",
        "    FRR_test = 1 - Recall_test\n",
        "\n",
        "    total_matrix_valid_close_0[i,:] = ACC_test, FAR_test, FRR_test, Recall_test\n",
        "\n",
        "\n",
        "EER_loc_test = np.argmin(abs(total_matrix_valid_close_0[:,1] - total_matrix_valid_close_0[:,2]))\n",
        "EER_close_0 = (total_matrix_valid_close_0[EER_loc_test,1]+total_matrix_valid_close_0[EER_loc_test,2])/2\n"
      ],
      "execution_count": 0,
      "outputs": []
    },
    {
      "cell_type": "code",
      "metadata": {
        "id": "XA189l9VpECx",
        "colab_type": "code",
        "colab": {}
      },
      "source": [
        "# Close-validation result in Model-TP feature\n",
        "\n",
        "thres_matrix_valid_close_1 = np.zeros((len(valid_label),len(thres)))\n",
        "total_matrix_valid_close_1 = np.zeros((len(thres),4)) #acc,far,frr,recall(order of column)\n",
        "\n",
        "\n",
        "for j in range(len(thres)):\n",
        "    for i in range(len(valid_label)):\n",
        "        if valid_close_logit_1[i] < thres[j]:\n",
        "            thres_matrix_valid_close_1[i,j] = 0\n",
        "        else:\n",
        "            thres_matrix_valid_close_1[i,j] = 1\n",
        "\n",
        "for i in range(len(thres)):\n",
        "\n",
        "    equal_logit = np.equal(thres_matrix_valid_close_1[:,i], valid_label[:,1])\n",
        "    unique2, True_pos_neg_test = np.unique(thres_matrix_valid_close_1[np.where(equal_logit==True),i], return_counts=True)\n",
        "    unique3, False_pos_neg_test = np.unique(thres_matrix_valid_close_1[np.where(equal_logit==False),i], return_counts=True) \n",
        "\n",
        "    if np.shape(True_pos_neg_test)==(1,):\n",
        "        if unique2[0] == 0:\n",
        "            True_pos_neg_test = [True_pos_neg_test[0], 0]\n",
        "        else:\n",
        "            True_pos_neg_test = [0, True_pos_neg_test[0]]\n",
        "\n",
        "    if np.shape(False_pos_neg_test)==(1,):\n",
        "        if unique3[0] == 0:\n",
        "            False_pos_neg_test = [False_pos_neg_test[0], 0]\n",
        "        else:\n",
        "            False_pos_neg_test = [0, False_pos_neg_test[0]]\n",
        "\n",
        "    if np.shape(True_pos_neg_test)==(0,):\n",
        "        True_pos_neg_test = [0, 0]\n",
        "\n",
        "    if np.shape(False_pos_neg_test)==(0,):\n",
        "        False_pos_neg_test = [0, 0]\n",
        "\n",
        "    Recall_test= True_pos_neg_test[1]/(False_pos_neg_test[0]+True_pos_neg_test[1])\n",
        "    Specific_test = True_pos_neg_test[0] /(True_pos_neg_test[0]+False_pos_neg_test[1])\n",
        "\n",
        "    ACC_test = (True_pos_neg_test[0]+True_pos_neg_test[1]) / (len(valid_label))\n",
        "    FAR_test = 1 - Specific_test\n",
        "    FRR_test = 1 - Recall_test\n",
        "\n",
        "    total_matrix_valid_close_1[i,:] = ACC_test, FAR_test, FRR_test, Recall_test\n",
        "\n",
        "EER_loc_test = np.argmin(abs(total_matrix_valid_close_1[:,1] - total_matrix_valid_close_1[:,2]))\n",
        "EER_close_1 = (total_matrix_valid_close_1[EER_loc_test,1]+total_matrix_valid_close_1[EER_loc_test,2])/2"
      ],
      "execution_count": 0,
      "outputs": []
    },
    {
      "cell_type": "code",
      "metadata": {
        "id": "AOIqH5BHpEKQ",
        "colab_type": "code",
        "colab": {}
      },
      "source": [
        "# Close-validation result in Model-FP feature\n",
        "\n",
        "thres_matrix_valid_close_2 = np.zeros((len(valid_label),len(thres)))\n",
        "total_matrix_valid_close_2 = np.zeros((len(thres),4)) #acc,far,frr,recall(order of column)\n",
        "\n",
        "\n",
        "for j in range(len(thres)):\n",
        "    for i in range(len(valid_label)):\n",
        "        if valid_close_logit_2[i] < thres[j]:\n",
        "            thres_matrix_valid_close_2[i,j] = 0\n",
        "        else:\n",
        "            thres_matrix_valid_close_2[i,j] = 1\n",
        "\n",
        "for i in range(len(thres)):\n",
        "\n",
        "    equal_logit = np.equal(thres_matrix_valid_close_2[:,i], valid_label[:,1])\n",
        "    unique2, True_pos_neg_test = np.unique(thres_matrix_valid_close_2[np.where(equal_logit==True),i], return_counts=True)\n",
        "    unique3, False_pos_neg_test = np.unique(thres_matrix_valid_close_2[np.where(equal_logit==False),i], return_counts=True) \n",
        "\n",
        "    if np.shape(True_pos_neg_test)==(1,):\n",
        "        if unique2[0] == 0:\n",
        "            True_pos_neg_test = [True_pos_neg_test[0], 0]\n",
        "        else:\n",
        "            True_pos_neg_test = [0, True_pos_neg_test[0]]\n",
        "\n",
        "    if np.shape(False_pos_neg_test)==(1,):\n",
        "        if unique3[0] == 0:\n",
        "            False_pos_neg_test = [False_pos_neg_test[0], 0]\n",
        "        else:\n",
        "            False_pos_neg_test = [0, False_pos_neg_test[0]]\n",
        "\n",
        "    if np.shape(True_pos_neg_test)==(0,):\n",
        "        True_pos_neg_test = [0, 0]\n",
        "\n",
        "    if np.shape(False_pos_neg_test)==(0,):\n",
        "        False_pos_neg_test = [0, 0]\n",
        "\n",
        "    Recall_test= True_pos_neg_test[1]/(False_pos_neg_test[0]+True_pos_neg_test[1])\n",
        "    Specific_test = True_pos_neg_test[0] /(True_pos_neg_test[0]+False_pos_neg_test[1])\n",
        "\n",
        "    ACC_test = (True_pos_neg_test[0]+True_pos_neg_test[1]) / (len(valid_label))\n",
        "    FAR_test = 1 - Specific_test\n",
        "    FRR_test = 1 - Recall_test\n",
        "\n",
        "    total_matrix_valid_close_2[i,:] = ACC_test, FAR_test, FRR_test, Recall_test\n",
        "\n",
        "EER_loc_test = np.argmin(abs(total_matrix_valid_close_2[:,1] - total_matrix_valid_close_2[:,2]))\n",
        "EER_close_2 = (total_matrix_valid_close_2[EER_loc_test,1]+total_matrix_valid_close_2[EER_loc_test,2])/2"
      ],
      "execution_count": 0,
      "outputs": []
    },
    {
      "cell_type": "code",
      "metadata": {
        "id": "uTuksQJTpERP",
        "colab_type": "code",
        "colab": {}
      },
      "source": [
        "# Close-validation result in Model-Cubic feature\n",
        "\n",
        "thres_matrix_valid_close_3 = np.zeros((len(valid_label),len(thres)))\n",
        "total_matrix_valid_close_3 = np.zeros((len(thres),4)) #acc,far,frr,recall(order of column)\n",
        "\n",
        "\n",
        "for j in range(len(thres)):\n",
        "    for i in range(len(valid_label)):\n",
        "        if valid_close_logit_3[i] < thres[j]:\n",
        "            thres_matrix_valid_close_3[i,j] = 0\n",
        "        else:\n",
        "            thres_matrix_valid_close_3[i,j] = 1\n",
        "\n",
        "for i in range(len(thres)):\n",
        "\n",
        "    equal_logit = np.equal(thres_matrix_valid_close_3[:,i], valid_label[:,1])\n",
        "    unique2, True_pos_neg_test = np.unique(thres_matrix_valid_close_3[np.where(equal_logit==True),i], return_counts=True)\n",
        "    unique3, False_pos_neg_test = np.unique(thres_matrix_valid_close_3[np.where(equal_logit==False),i], return_counts=True) \n",
        "\n",
        "    if np.shape(True_pos_neg_test)==(1,):\n",
        "        if unique2[0] == 0:\n",
        "            True_pos_neg_test = [True_pos_neg_test[0], 0]\n",
        "        else:\n",
        "            True_pos_neg_test = [0, True_pos_neg_test[0]]\n",
        "\n",
        "    if np.shape(False_pos_neg_test)==(1,):\n",
        "        if unique3[0] == 0:\n",
        "            False_pos_neg_test = [False_pos_neg_test[0], 0]\n",
        "        else:\n",
        "            False_pos_neg_test = [0, False_pos_neg_test[0]]\n",
        "\n",
        "    if np.shape(True_pos_neg_test)==(0,):\n",
        "        True_pos_neg_test = [0, 0]\n",
        "\n",
        "    if np.shape(False_pos_neg_test)==(0,):\n",
        "        False_pos_neg_test = [0, 0]\n",
        "\n",
        "    Recall_test= True_pos_neg_test[1]/(False_pos_neg_test[0]+True_pos_neg_test[1])\n",
        "    Specific_test = True_pos_neg_test[0] /(True_pos_neg_test[0]+False_pos_neg_test[1])\n",
        "\n",
        "    ACC_test = (True_pos_neg_test[0]+True_pos_neg_test[1]) / (len(valid_label))\n",
        "    FAR_test = 1 - Specific_test\n",
        "    FRR_test = 1 - Recall_test\n",
        "\n",
        "    total_matrix_valid_close_3[i,:] = ACC_test, FAR_test, FRR_test, Recall_test\n",
        "\n",
        "EER_loc_test = np.argmin(abs(total_matrix_valid_close_3[:,1] - total_matrix_valid_close_3[:,2]))\n",
        "EER_close_3 = (total_matrix_valid_close_3[EER_loc_test,1]+total_matrix_valid_close_3[EER_loc_test,2])/2\n",
        "\n",
        "# EER results from close-validation set in each model\n",
        "valid_close_per = [EER_close_0, EER_close_1, EER_close_2, EER_close_3] \n",
        "\t\n",
        "for i in range(len(valid_close_per)): # If EER is 0, give 0.001 instead to avoid NaN\n",
        "\tif valid_close_per[i] ==0:\n",
        "\t\tvalid_close_per[i] = 0.001\t\t\n",
        "\n",
        "valid_time = time.time() - start_time_valid # Time for calculating far and close validation sets"
      ],
      "execution_count": 0,
      "outputs": []
    },
    {
      "cell_type": "markdown",
      "metadata": {
        "id": "AzIlfY14Bk63",
        "colab_type": "text"
      },
      "source": [
        "**Results of test set in individual model**"
      ]
    },
    {
      "cell_type": "code",
      "metadata": {
        "id": "xfGvATHEBdh-",
        "colab_type": "code",
        "colab": {}
      },
      "source": [
        "testing_0 = np.reshape(test_data[:,:,0], [len(test_data[:,:,0]),n_features,1])\n",
        "testing_1 = np.reshape(test_data[:,:,1], [len(test_data[:,:,1]),n_features,1])\n",
        "testing_2 = np.reshape(test_data[:,:,2], [len(test_data[:,:,2]),n_features,1])\n",
        "testing_3 = np.reshape(test_data[:,:,3], [len(test_data[:,:,3]),n_features,1])\n",
        "\n",
        "start_time_test2 = time.time() # Time starts!    \n",
        "\n",
        "test_logit_0 =  models[0].get_predict(testing_0) # Test score in Model-DW feature\n",
        "test_logit_1 =  models[1].get_predict(testing_1) # Test score in Model-TP feature\n",
        "test_logit_2 =  models[2].get_predict(testing_2) # Test score in Model-FP feature\n",
        "test_logit_3 =  models[3].get_predict(testing_3) # Test score in Model-Cubic feature    \n",
        "\n",
        "test_all_logit = np.array([test_logit_0, test_logit_1, test_logit_2, test_logit_3])\n",
        "\n",
        "test_time = time.time() - start_time_test2  # Time for predicting in each model"
      ],
      "execution_count": 0,
      "outputs": []
    },
    {
      "cell_type": "markdown",
      "metadata": {
        "id": "m8uN8WwrrbMd",
        "colab_type": "text"
      },
      "source": [
        "**Variation-stable approach with assigning weights**"
      ]
    },
    {
      "cell_type": "code",
      "metadata": {
        "id": "3sFa-D5brV30",
        "colab_type": "code",
        "outputId": "21ff0490-3753-4882-d38d-818476c6c5de",
        "colab": {
          "base_uri": "https://localhost:8080/",
          "height": 51
        }
      },
      "source": [
        "start_time_vari = time.time() # Time starts!    \n",
        "\n",
        "diff_value = abs(np.subtract(valid_per,valid_close_per)) # Calculate the difference between validation sets\n",
        "\n",
        "vari_valid_per = []\n",
        "vari_loc = []\n",
        "\n",
        "if np.std(diff_value) >= 0.17: # Check whether std. of difference is over 0.17\n",
        "\tfor i in range(len(diff_value)):\n",
        "\t\tif diff_value[i] < 0.25: # Include model if its difference of validation sets is less than 0.25\n",
        "\t\t\tvari_valid_per.append(valid_close_per[i])\n",
        "\t\t\tvari_loc.append(i)\n",
        "\n",
        "else: \n",
        "\tvari_valid_per = valid_close_per # If std. of difference is less than 0.17, use close (or far) validation set\n",
        "\tvari_loc = [0,1,2,3]\n",
        "\n",
        "# Calculate the weight values using EER values from close (or far) validation set in remained models\n",
        "vari_weight = []\n",
        "for i in range(len(vari_valid_per)): \n",
        "\tvari_weight.append(round(np.divide((1/vari_valid_per[i]) ,(np.sum(np.divide(1,vari_valid_per)))), 3))\n",
        "\t\n",
        "print('Std. of difference between validation sets: ',np.std(diff_value))\n",
        "print('Weights in variation fusion: ',vari_weight)\n",
        "\n",
        "vari_time = time.time() - start_time_vari"
      ],
      "execution_count": 21,
      "outputs": [
        {
          "output_type": "stream",
          "text": [
            "Std. of difference between validation sets:  0.11582439344753585\n",
            "Weights in variation fusion:  [0.371, 0.031, 0.371, 0.226]\n"
          ],
          "name": "stdout"
        }
      ]
    },
    {
      "cell_type": "markdown",
      "metadata": {
        "id": "epu60GQAvaZl",
        "colab_type": "text"
      },
      "source": [
        "**Variation - Min Fusion**"
      ]
    },
    {
      "cell_type": "code",
      "metadata": {
        "id": "iYM9J5iIvZ4n",
        "colab_type": "code",
        "outputId": "d3e4b1ea-d651-4677-a542-7f7ac7fc2039",
        "colab": {
          "base_uri": "https://localhost:8080/",
          "height": 34
        }
      },
      "source": [
        "start_time_min = time.time() # Time starts!    \n",
        "\n",
        "thres_matrix_fusion = np.zeros((len(test_target),len(thres)))\n",
        "total_matrix_fusion = np.zeros((len(thres),4)) #acc,far,frr,recall(order of column)\n",
        "\n",
        "vari_min_test_logit = test_all_logit[vari_loc[vari_valid_per.index(min(vari_valid_per))],:]\n",
        "\n",
        "for j in range(len(thres)):\n",
        "    for i in range(len(test_target)):\n",
        "        if vari_min_test_logit[i] < thres[j]:\n",
        "            thres_matrix_fusion[i,j] = 0\n",
        "        else:\n",
        "            thres_matrix_fusion[i,j] = 1\n",
        "\n",
        "for i in range(len(thres)):\n",
        "\n",
        "    equal_logit = np.equal(thres_matrix_fusion[:,i], test_target[:,1]) \n",
        "    unique2, True_pos_neg_test = np.unique(thres_matrix_fusion[np.where(equal_logit==True),i], return_counts=True)\n",
        "    unique3, False_pos_neg_test = np.unique(thres_matrix_fusion[np.where(equal_logit==False),i], return_counts=True) \n",
        "\n",
        "    if np.shape(True_pos_neg_test)==(1,):\n",
        "        if unique2[0] == 0:\n",
        "            True_pos_neg_test = [True_pos_neg_test[0], 0]\n",
        "        else:\n",
        "            True_pos_neg_test = [0, True_pos_neg_test[0]]\n",
        "\n",
        "    if np.shape(False_pos_neg_test)==(1,):\n",
        "        if unique3[0] == 0:\n",
        "            False_pos_neg_test = [False_pos_neg_test[0], 0]\n",
        "        else:\n",
        "            False_pos_neg_test = [0, False_pos_neg_test[0]]\n",
        "\n",
        "    if np.shape(True_pos_neg_test)==(0,):\n",
        "        True_pos_neg_test = [0, 0]\n",
        "\n",
        "    if np.shape(False_pos_neg_test)==(0,):\n",
        "        False_pos_neg_test = [0, 0]\n",
        "\n",
        "    Recall_test= True_pos_neg_test[1]/(False_pos_neg_test[0]+True_pos_neg_test[1])\n",
        "    Specific_test = True_pos_neg_test[0] /(True_pos_neg_test[0]+False_pos_neg_test[1])\n",
        "\n",
        "    ACC_test = (True_pos_neg_test[0]+True_pos_neg_test[1]) / (len(test_target))\n",
        "    FAR_test = 1 - Specific_test\n",
        "    FRR_test = 1 - Recall_test\n",
        "\n",
        "    total_matrix_fusion[i,:] = ACC_test, FAR_test, FRR_test, Recall_test\n",
        "\n",
        "min_time = time.time() - start_time_min\n",
        "\n",
        "elapsed = train_time + test_time + valid_time + vari_time + min_time\n",
        "\n",
        "print('Execution time for variation - min fusion: {:.2f} seconds'.format(elapsed))"
      ],
      "execution_count": 22,
      "outputs": [
        {
          "output_type": "stream",
          "text": [
            "Execution time for variation - min fusion: 364.93 seconds\n"
          ],
          "name": "stdout"
        }
      ]
    },
    {
      "cell_type": "code",
      "metadata": {
        "id": "dOAPodRYvaFB",
        "colab_type": "code",
        "outputId": "0a2f27d8-dae7-4f0d-b9be-298937716926",
        "colab": {
          "base_uri": "https://localhost:8080/",
          "height": 607
        }
      },
      "source": [
        "fig = plt.figure()\n",
        "ax = plt.subplot(111)\n",
        "ax.plot(thres, total_matrix_fusion[:,1], 'b', label='FAR')\n",
        "ax.plot(thres, total_matrix_fusion[:,2],'r', label='FRR')\n",
        "ax.legend()\n",
        "plt.title('FAR vs FRR (Test)')\n",
        "plt.xlabel('Threshold')\n",
        "plt.ylabel('Err Rate')\n",
        "plt.show()\n",
        "\n",
        "EER_line = thres[::-1]\n",
        "fig = plt.figure()\n",
        "ax2 = plt.subplot(111)\n",
        "ax2.plot(total_matrix_fusion[:,1], total_matrix_fusion[:,3],'r',label='ROC')\n",
        "ax2.plot(thres, EER_line, 'b',label='EER Line')\n",
        "ax2.legend()\n",
        "plt.title('ROC Curve (Test)')\n",
        "plt.xlabel('FAR')\n",
        "plt.ylabel('TPR')\n",
        "plt.show()\n",
        "\n",
        "EER_loc_test = np.argmin(abs(total_matrix_fusion[:,1] - total_matrix_fusion[:,2]))\n",
        "print('EER with variation - min fusion: {:.3f} '.format((total_matrix_fusion[EER_loc_test,1]+total_matrix_fusion[EER_loc_test,2])/2))\n",
        "print('Accuracy with variation - min fusion: {:.3f} '.format(total_matrix_fusion[EER_loc_test,0]))"
      ],
      "execution_count": 23,
      "outputs": [
        {
          "output_type": "display_data",
          "data": {
            "image/png": "[encoded data removed]",
            "text/plain": [
              "<Figure size 432x288 with 1 Axes>"
            ]
          },
          "metadata": {
            "tags": [],
            "needs_background": "light"
          }
        },
        {
          "output_type": "display_data",
          "data": {
            "image/png": "[encoded data removed]",
            "text/plain": [
              "<Figure size 432x288 with 1 Axes>"
            ]
          },
          "metadata": {
            "tags": [],
            "needs_background": "light"
          }
        },
        {
          "output_type": "stream",
          "text": [
            "EER with variation - min fusion: 0.000 \n",
            "Accuracy with variation - min fusion: 1.000 \n"
          ],
          "name": "stdout"
        }
      ]
    },
    {
      "cell_type": "markdown",
      "metadata": {
        "id": "A2dte2uLZFIg",
        "colab_type": "text"
      },
      "source": [
        "**Variation - Sum Fusion**"
      ]
    },
    {
      "cell_type": "code",
      "metadata": {
        "id": "7DTHrN13ZXGF",
        "colab_type": "code",
        "outputId": "ec34d98f-b55c-4a19-8c09-a3def185a31e",
        "colab": {
          "base_uri": "https://localhost:8080/",
          "height": 34
        }
      },
      "source": [
        "start_time_sum = time.time() # Time starts!    \n",
        "\n",
        "thres_matrix_fusion2 = np.zeros((len(test_target),len(thres)))\n",
        "total_matrix_fusion2 = np.zeros((len(thres),4)) #acc,far,frr,recall(order of column)\n",
        "\n",
        "vari_sum_test_logit = np.zeros(np.shape(test_all_logit[0,:]))\n",
        "\n",
        "for i in range(len(vari_loc)):\n",
        "\tvari_sum_test_logit += vari_weight[i] * test_all_logit[vari_loc[i],:]\n",
        "\n",
        "for j in range(len(thres)):\n",
        "    for i in range(len(test_target)):\n",
        "        if vari_sum_test_logit[i] < thres[j]:\n",
        "            thres_matrix_fusion2[i,j] = 0\n",
        "        else:\n",
        "            thres_matrix_fusion2[i,j] = 1\n",
        "\n",
        "for i in range(len(thres)):\n",
        "\n",
        "    equal_logit = np.equal(thres_matrix_fusion2[:,i], test_target[:,1]) \n",
        "    unique2, True_pos_neg_test = np.unique(thres_matrix_fusion2[np.where(equal_logit==True),i], return_counts=True)\n",
        "    unique3, False_pos_neg_test = np.unique(thres_matrix_fusion2[np.where(equal_logit==False),i], return_counts=True) \n",
        "\n",
        "    if np.shape(True_pos_neg_test)==(1,):\n",
        "        if unique2[0] == 0:\n",
        "            True_pos_neg_test = [True_pos_neg_test[0], 0]\n",
        "        else:\n",
        "            True_pos_neg_test = [0, True_pos_neg_test[0]]\n",
        "\n",
        "    if np.shape(False_pos_neg_test)==(1,):\n",
        "        if unique3[0] == 0:\n",
        "            False_pos_neg_test = [False_pos_neg_test[0], 0]\n",
        "        else:\n",
        "            False_pos_neg_test = [0, False_pos_neg_test[0]]\n",
        "\n",
        "    if np.shape(True_pos_neg_test)==(0,):\n",
        "        True_pos_neg_test = [0, 0]\n",
        "\n",
        "    if np.shape(False_pos_neg_test)==(0,):\n",
        "        False_pos_neg_test = [0, 0]\n",
        "\n",
        "    Recall_test= True_pos_neg_test[1]/(False_pos_neg_test[0]+True_pos_neg_test[1])\n",
        "    Specific_test = True_pos_neg_test[0] /(True_pos_neg_test[0]+False_pos_neg_test[1])\n",
        "\n",
        "    ACC_test = (True_pos_neg_test[0]+True_pos_neg_test[1]) / (len(test_target))\n",
        "    FAR_test = 1 - Specific_test\n",
        "    FRR_test = 1 - Recall_test\n",
        "\n",
        "    total_matrix_fusion2[i,:] = ACC_test, FAR_test, FRR_test, Recall_test\n",
        "\n",
        "sum_time = time.time() - start_time_sum  \n",
        "\n",
        "elapsed = train_time + test_time + valid_time + vari_time + sum_time\n",
        "\n",
        "print('Execution time for variation - sum fusion: {:.2f} seconds'.format(elapsed))\n"
      ],
      "execution_count": 24,
      "outputs": [
        {
          "output_type": "stream",
          "text": [
            "Execution time for variation - sum fusion: 363.57 seconds\n"
          ],
          "name": "stdout"
        }
      ]
    },
    {
      "cell_type": "code",
      "metadata": {
        "id": "BKg3H3fHuz3W",
        "colab_type": "code",
        "outputId": "f8f3e048-0401-49e6-d31b-300785050a80",
        "colab": {
          "base_uri": "https://localhost:8080/",
          "height": 607
        }
      },
      "source": [
        "fig = plt.figure()\n",
        "ax = plt.subplot(111)\n",
        "ax.plot(thres, total_matrix_fusion2[:,1], 'b', label='FAR')\n",
        "ax.plot(thres, total_matrix_fusion2[:,2],'r', label='FRR')\n",
        "ax.legend()\n",
        "plt.title('FAR vs FRR (Test)')\n",
        "plt.xlabel('Threshold')\n",
        "plt.ylabel('Err Rate')\n",
        "plt.show()\n",
        "\n",
        "EER_line = thres[::-1]\n",
        "fig = plt.figure()\n",
        "ax2 = plt.subplot(111)\n",
        "ax2.plot(total_matrix_fusion2[:,1], total_matrix_fusion2[:,3],'r',label='ROC')\n",
        "ax2.plot(thres, EER_line, 'b',label='EER Line')\n",
        "ax2.legend()\n",
        "plt.title('ROC Curve (Test)')\n",
        "plt.xlabel('FAR')\n",
        "plt.ylabel('TPR')\n",
        "plt.show()\n",
        "\n",
        "EER_loc_test = np.argmin(abs(total_matrix_fusion2[:,1] - total_matrix_fusion2[:,2]))\n",
        "print('EER with variation - sum fusion: {:.3f} '.format((total_matrix_fusion2[EER_loc_test,1]+total_matrix_fusion2[EER_loc_test,2])/2))\n",
        "print('Accuracy with variation - sum fusion: {:.3f} '.format(total_matrix_fusion2[EER_loc_test,0]))"
      ],
      "execution_count": 25,
      "outputs": [
        {
          "output_type": "display_data",
          "data": {
            "image/png": "[encoded data removed]",
            "text/plain": [
              "<Figure size 432x288 with 1 Axes>"
            ]
          },
          "metadata": {
            "tags": [],
            "needs_background": "light"
          }
        },
        {
          "output_type": "display_data",
          "data": {
            "image/png": "[encoded data removed]",
            "text/plain": [
              "<Figure size 432x288 with 1 Axes>"
            ]
          },
          "metadata": {
            "tags": [],
            "needs_background": "light"
          }
        },
        {
          "output_type": "stream",
          "text": [
            "EER with variation - sum fusion: 0.000 \n",
            "Accuracy with variation - sum fusion: 1.000 \n"
          ],
          "name": "stdout"
        }
      ]
    },
    {
      "cell_type": "markdown",
      "metadata": {
        "id": "wU7MKc7vt-ST",
        "colab_type": "text"
      },
      "source": [
        "**Variation - Product Fusion**"
      ]
    },
    {
      "cell_type": "code",
      "metadata": {
        "id": "QLeNmlcDt-jO",
        "colab_type": "code",
        "outputId": "29c6fd83-33ca-4bed-ba81-49a33b71de39",
        "colab": {
          "base_uri": "https://localhost:8080/",
          "height": 34
        }
      },
      "source": [
        "start_time_product = time.time() # Time starts!    \n",
        "\n",
        "thres_matrix_fusion3 = np.zeros((len(test_target),len(thres)))\n",
        "total_matrix_fusion3 = np.zeros((len(thres),4)) #acc,far,frr,recall(order of column)\n",
        "\n",
        "vari_product_test_logit = np.ones(np.shape(test_all_logit[0,:]))\n",
        "\n",
        "for i in range(len(vari_loc)):\n",
        "\tvari_product_test_logit = np.multiply(vari_product_test_logit, np.power(test_all_logit[vari_loc[i],:],vari_weight[i]))\n",
        "\n",
        "for j in range(len(thres)):\n",
        "    for i in range(len(test_target)):\n",
        "        if vari_product_test_logit[i] < thres[j]:\n",
        "            thres_matrix_fusion3[i,j] = 0\n",
        "        else:\n",
        "            thres_matrix_fusion3[i,j] = 1\n",
        "\n",
        "for i in range(len(thres)):\n",
        "\n",
        "    equal_logit = np.equal(thres_matrix_fusion3[:,i], test_target[:,1]) \n",
        "    unique2, True_pos_neg_test = np.unique(thres_matrix_fusion3[np.where(equal_logit==True),i], return_counts=True)\n",
        "    unique3, False_pos_neg_test = np.unique(thres_matrix_fusion3[np.where(equal_logit==False),i], return_counts=True) \n",
        "\n",
        "    if np.shape(True_pos_neg_test)==(1,):\n",
        "        if unique2[0] == 0:\n",
        "            True_pos_neg_test = [True_pos_neg_test[0], 0]\n",
        "        else:\n",
        "            True_pos_neg_test = [0, True_pos_neg_test[0]]\n",
        "\n",
        "    if np.shape(False_pos_neg_test)==(1,):\n",
        "        if unique3[0] == 0:\n",
        "            False_pos_neg_test = [False_pos_neg_test[0], 0]\n",
        "        else:\n",
        "            False_pos_neg_test = [0, False_pos_neg_test[0]]\n",
        "\n",
        "    if np.shape(True_pos_neg_test)==(0,):\n",
        "        True_pos_neg_test = [0, 0]\n",
        "\n",
        "    if np.shape(False_pos_neg_test)==(0,):\n",
        "        False_pos_neg_test = [0, 0]\n",
        "\n",
        "    Recall_test= True_pos_neg_test[1]/(False_pos_neg_test[0]+True_pos_neg_test[1])\n",
        "    Specific_test = True_pos_neg_test[0] /(True_pos_neg_test[0]+False_pos_neg_test[1])\n",
        "\n",
        "    ACC_test = (True_pos_neg_test[0]+True_pos_neg_test[1]) / (len(test_target))\n",
        "    FAR_test = 1 - Specific_test\n",
        "    FRR_test = 1 - Recall_test\n",
        "\n",
        "    total_matrix_fusion3[i,:] = ACC_test, FAR_test, FRR_test, Recall_test\n",
        "\n",
        "product_time = time.time() - start_time_product  \n",
        "\n",
        "elapsed = train_time + test_time + valid_time + vari_time + product_time\n",
        "\n",
        "print('Execution time for variation - product fusion: {:.2f} seconds'.format(elapsed))"
      ],
      "execution_count": 26,
      "outputs": [
        {
          "output_type": "stream",
          "text": [
            "Execution time for variation - product fusion: 363.57 seconds\n"
          ],
          "name": "stdout"
        }
      ]
    },
    {
      "cell_type": "code",
      "metadata": {
        "id": "yJAIciu_vWlj",
        "colab_type": "code",
        "outputId": "181fa355-3fee-41c8-a63e-e297861962b1",
        "colab": {
          "base_uri": "https://localhost:8080/",
          "height": 607
        }
      },
      "source": [
        "fig = plt.figure()\n",
        "ax = plt.subplot(111)\n",
        "ax.plot(thres, total_matrix_fusion3[:,1], 'b', label='FAR')\n",
        "ax.plot(thres, total_matrix_fusion3[:,2],'r', label='FRR')\n",
        "ax.legend()\n",
        "plt.title('FAR vs FRR (Test)')\n",
        "plt.xlabel('Threshold')\n",
        "plt.ylabel('Err Rate')\n",
        "plt.show()\n",
        "\n",
        "EER_line = thres[::-1]\n",
        "fig = plt.figure()\n",
        "ax2 = plt.subplot(111)\n",
        "ax2.plot(total_matrix_fusion3[:,1], total_matrix_fusion3[:,3],'r',label='ROC')\n",
        "ax2.plot(thres, EER_line, 'b',label='EER Line')\n",
        "ax2.legend()\n",
        "plt.title('ROC Curve (Test)')\n",
        "plt.xlabel('FAR')\n",
        "plt.ylabel('TPR')\n",
        "plt.show()\n",
        "\n",
        "EER_loc_test = np.argmin(abs(total_matrix_fusion3[:,1] - total_matrix_fusion3[:,2]))\n",
        "print('EER with variation - product fusion: {:.3f} '.format((total_matrix_fusion3[EER_loc_test,1]+total_matrix_fusion3[EER_loc_test,2])/2))\n",
        "print('Accuracy with variation - product fusion: {:.3f} '.format(total_matrix_fusion3[EER_loc_test,0]))"
      ],
      "execution_count": 27,
      "outputs": [
        {
          "output_type": "display_data",
          "data": {
            "image/png": "[encoded data removed]",
            "text/plain": [
              "<Figure size 432x288 with 1 Axes>"
            ]
          },
          "metadata": {
            "tags": [],
            "needs_background": "light"
          }
        },
        {
          "output_type": "display_data",
          "data": {
            "image/png": "[encoded data removed]",
            "text/plain": [
              "<Figure size 432x288 with 1 Axes>"
            ]
          },
          "metadata": {
            "tags": [],
            "needs_background": "light"
          }
        },
        {
          "output_type": "stream",
          "text": [
            "EER with variation - product fusion: 0.000 \n",
            "Accuracy with variation - product fusion: 1.000 \n"
          ],
          "name": "stdout"
        }
      ]
    }
  ]
}